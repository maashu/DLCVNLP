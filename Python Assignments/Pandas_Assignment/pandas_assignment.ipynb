{
 "metadata": {
  "language_info": {
   "codemirror_mode": {
    "name": "ipython",
    "version": 3
   },
   "file_extension": ".py",
   "mimetype": "text/x-python",
   "name": "python",
   "nbconvert_exporter": "python",
   "pygments_lexer": "ipython3",
   "version": "3.7.3-final"
  },
  "orig_nbformat": 2,
  "kernelspec": {
   "name": "python37364bitbasea5846ac0a2684b63b88f7ef45b53cae5",
   "display_name": "Python 3.7.3 64-bit ('base')",
   "language": "python"
  }
 },
 "nbformat": 4,
 "nbformat_minor": 2,
 "cells": [
  {
   "cell_type": "code",
   "execution_count": 1,
   "metadata": {},
   "outputs": [],
   "source": [
    "import pandas as pd\n",
    "import os\n",
    "import numpy as np "
   ]
  },
  {
   "cell_type": "code",
   "execution_count": 2,
   "metadata": {},
   "outputs": [],
   "source": [
    "#### Input data\n",
    "\n",
    "df = pd.DataFrame({'From_To': ['LoNDon_paris', 'MAdrid_miLAN',  \n",
    "'londON_StockhOlm', \n",
    "'Budapest_PaRis', 'Brussels_londOn'], \n",
    "'FlightNumber': [10045, np.nan, 10065, np.nan, 10085], \n",
    "'RecentDelays': [[23, 47], [], [24, 43, 87], [13], [67, 32]], \n",
    "'Airline': ['KLM(!)', '<Air France> (12)', '(British Airways. )', \n",
    "'12. Air France', '\"Swiss Air\"']}) \n"
   ]
  },
  {
   "source": [
    "### 1. Some values in the the FlightNumber column are missing. These numbers are  meant to increase by 10 with each row so 10055 and 10075 need to be      put in  place. Fill in these missing numbers and make the column an integer column  (instead of a float column). "
   ],
   "cell_type": "markdown",
   "metadata": {}
  },
  {
   "cell_type": "code",
   "execution_count": 3,
   "metadata": {},
   "outputs": [],
   "source": [
    "df['FlightNumber'] = df['FlightNumber'].where(~df['FlightNumber'].isna(),(df['FlightNumber'].fillna(method='ffill') + 10 )).astype(int)"
   ]
  },
  {
   "source": [
    "### Ans# 1 Image\n",
    "![](q1.png)"
   ],
   "cell_type": "markdown",
   "metadata": {}
  },
  {
   "source": [
    "### 2. The From_To column would be better as two separate columns! Split each  string on the underscore delimiter _ to give a new temporary DataFrame with  the correct values. Assign the correct column names to this temporary  DataFrame. \n"
   ],
   "cell_type": "markdown",
   "metadata": {}
  },
  {
   "cell_type": "code",
   "execution_count": 4,
   "metadata": {},
   "outputs": [],
   "source": [
    "temp_df = pd.DataFrame(df['From_To'].str.split('_').tolist(),columns=['From','To'])"
   ]
  },
  {
   "source": [
    "### Ans# 2 Image\n",
    "![](q2.png)"
   ],
   "cell_type": "markdown",
   "metadata": {}
  },
  {
   "source": [
    "### 3. Notice how the capitalisation of the city names is all mixed up in this  temporary DataFrame. Standardise the strings so that only the first letter is  uppercase (e.g. \"londON\" should become \"London\".) "
   ],
   "cell_type": "markdown",
   "metadata": {}
  },
  {
   "cell_type": "code",
   "execution_count": 5,
   "metadata": {},
   "outputs": [],
   "source": [
    "temp_df = temp_df.apply(lambda x : x.str.title())"
   ]
  },
  {
   "source": [
    "### Ans# 3 Image\n",
    "![](q3.png)"
   ],
   "cell_type": "markdown",
   "metadata": {}
  },
  {
   "source": [
    "### 4. Delete the From_To column from df and attach the temporary DataFrame  from the previous questions. \n"
   ],
   "cell_type": "markdown",
   "metadata": {}
  },
  {
   "cell_type": "code",
   "execution_count": 6,
   "metadata": {},
   "outputs": [],
   "source": [
    "df = df.merge(temp_df,left_index=True,right_index=True)\n",
    "df.drop(columns=['From_To'],inplace=True)\n"
   ]
  },
  {
   "source": [
    "### Ans# 4 Image\n",
    "![](q4.png)"
   ],
   "cell_type": "markdown",
   "metadata": {}
  },
  {
   "source": [
    "### 5. In the RecentDelays column, the values have been entered into the  DataFrame as a list. We would like each first value in its own column,each second value in its own column, and so on. If there isn't an Nth value, the value  should be NaN.Expand the Series of lists into a DataFrame named delays, rename the columns  delay_1, delay_2, etc. and replace the unwanted RecentDelays column in df  with delays. "
   ],
   "cell_type": "markdown",
   "metadata": {}
  },
  {
   "cell_type": "code",
   "execution_count": 9,
   "metadata": {},
   "outputs": [],
   "source": [
    "temp_df1 = pd.DataFrame(df['RecentDelays'].tolist()).rename(columns=lambda x: f'Delay_{x}')"
   ]
  },
  {
   "cell_type": "code",
   "execution_count": 10,
   "metadata": {},
   "outputs": [],
   "source": [
    "df = pd.concat([df[:],temp_df1[:]],axis=1)\n",
    "df.drop(columns=['RecentDelays'],inplace=True)"
   ]
  },
  {
   "source": [
    "### Ans# 5 Image\n",
    "![](q5.png)"
   ],
   "cell_type": "markdown",
   "metadata": {}
  }
 ]
}