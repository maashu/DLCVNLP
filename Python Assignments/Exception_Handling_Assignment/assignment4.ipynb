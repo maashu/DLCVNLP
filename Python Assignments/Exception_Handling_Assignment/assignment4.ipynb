{
 "metadata": {
  "language_info": {
   "codemirror_mode": {
    "name": "ipython",
    "version": 3
   },
   "file_extension": ".py",
   "mimetype": "text/x-python",
   "name": "python",
   "nbconvert_exporter": "python",
   "pygments_lexer": "ipython3",
   "version": "3.7.3-final"
  },
  "orig_nbformat": 2,
  "kernelspec": {
   "name": "python37364bitbasea5846ac0a2684b63b88f7ef45b53cae5",
   "display_name": "Python 3.7.3 64-bit ('base')",
   "language": "python"
  }
 },
 "nbformat": 4,
 "nbformat_minor": 2,
 "cells": [
  {
   "cell_type": "code",
   "execution_count": 3,
   "metadata": {},
   "outputs": [
    {
     "output_type": "stream",
     "name": "stdout",
     "text": [
      "Output is : Division by zero error\n"
     ]
    }
   ],
   "source": [
    "#1. Write a function to compute 5/0 and use try/except to catch the exceptions. \n",
    "\n",
    "def division():\n",
    "    return 5/0\n",
    "\n",
    "try:\n",
    "    print(division())\n",
    "except ZeroDivisionError as z:\n",
    "    print(\"Output is : Division by zero error\")"
   ]
  },
  {
   "source": [
    "### Output Screen shot\n",
    "\n",
    "![](q1.png)"
   ],
   "cell_type": "markdown",
   "metadata": {}
  },
  {
   "cell_type": "code",
   "execution_count": 2,
   "metadata": {},
   "outputs": [
    {
     "output_type": "stream",
     "name": "stdout",
     "text": [
      "Americans  play Baseball\nAmericans  play Cricket\nAmericans  watch Baseball\nAmericans  watch Cricket\nIndians play Baseball\nIndians play Cricket\nIndians watch Baseball\nIndians watch Cricket\n"
     ]
    }
   ],
   "source": [
    "# 2. Implement a Python program to generate all sentences where subject is in  [\"Americans\", \"Indians\"] and verb is in [\"Play\", \"watch\"] and the object is in  [\"Baseball\",\"cricket\"]. \n",
    "# Hint: Subject,Verb and Object should be declared in the program as shown below. \n",
    "# subjects=[\"Americans \",\"Indians\"] \n",
    "# verbs=[\"play\",\"watch\"] \n",
    "# objects=[\"Baseball\",\"Cricket\"] \n",
    "# Output should come as below: \n",
    "# Americans play Baseball. \n",
    "# Americans play Cricket. \n",
    "# Americans watch Baseball. \n",
    "# Americans watch Cricket. \n",
    "# Indians play Baseball. \n",
    "# Indians play Cricket. \n",
    "# Indians watch Baseball. \n",
    "# Indians watch Cricket. \n",
    "\n",
    "subjects=[\"Americans \",\"Indians\"] \n",
    "verbs=[\"play\",\"watch\"] \n",
    "objects=[\"Baseball\",\"Cricket\"] \n",
    "\n",
    "_ = [print(f'{sub} {verb} {obj}') for sub in subjects for verb in verbs for obj in objects]\n"
   ]
  },
  {
   "source": [
    "### OUTPUT SCREEN SHOT\n",
    "\n",
    "![](q2.png)"
   ],
   "cell_type": "markdown",
   "metadata": {}
  }
 ]
}